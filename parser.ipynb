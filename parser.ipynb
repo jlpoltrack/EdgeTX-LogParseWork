{
 "cells": [
  {
   "cell_type": "code",
   "execution_count": 6,
   "metadata": {},
   "outputs": [],
   "source": [
    "import numpy as np\n",
    "import pandas as pd\n",
    "\n",
    "fileName = 'ArduMLRS-2023-04-21-133752'\n",
    "\n",
    "df = pd.read_csv(f'{fileName}.csv')\n",
    "\n",
    "# vectorized haversine function\n",
    "def haversine(lat1, lon1, lat2, lon2, to_radians=True, earth_radius=6371):\n",
    "    \"\"\"\n",
    "    slightly modified version: of http://stackoverflow.com/a/29546836/2901002\n",
    "\n",
    "    Calculate the great circle distance between two points\n",
    "    on the earth (specified in decimal degrees or in radians)\n",
    "\n",
    "    All (lat, lon) coordinates must have numeric dtypes and be of equal length.\n",
    "\n",
    "    \"\"\"\n",
    "    if to_radians:\n",
    "        lat1, lon1, lat2, lon2 = np.radians([lat1, lon1, lat2, lon2])\n",
    "\n",
    "    a = np.sin((lat2-lat1)/2.0)**2 + \\\n",
    "        np.cos(lat1) * np.cos(lat2) * np.sin((lon2-lon1)/2.0)**2\n",
    "\n",
    "    return earth_radius * 2 * np.arcsin(np.sqrt(a)) * 1000"
   ]
  },
  {
   "cell_type": "code",
   "execution_count": 7,
   "metadata": {},
   "outputs": [],
   "source": [
    "# Home distance calculation\n",
    "df[['GPS_LAT', 'GPS_LON']] = df['GPS'].str.split(' ', expand=True).astype(float)                    # Split the GPS field into Lat and Lon\n",
    "df['HOME_GPS_LAT'] = df['GPS_LAT'].iloc[0].astype(float)                                            # Set the home GPS lat\n",
    "df['HOME_GPS_LON'] = df['GPS_LON'].iloc[0].astype(float)                                            # Set the home GPS lon\n",
    "df['HOME_DIST'] = haversine(df['HOME_GPS_LAT'], df['HOME_GPS_LON'], df['GPS_LAT'], df['GPS_LON'])   # Calculate distance to home"
   ]
  },
  {
   "cell_type": "code",
   "execution_count": 8,
   "metadata": {},
   "outputs": [],
   "source": [
    "# Relative altitude calculation\n",
    "df['HOME_Alt(m)'] = df['Alt(m)'].iloc[0].astype(float)\n",
    "df['Rel_Alt(m)'] = df['Alt(m)'] - df['HOME_Alt(m)']"
   ]
  },
  {
   "cell_type": "code",
   "execution_count": 9,
   "metadata": {},
   "outputs": [],
   "source": [
    "df.to_csv(f'{fileName}Out.csv', index=False)"
   ]
  }
 ],
 "metadata": {
  "kernelspec": {
   "display_name": "Python 3",
   "language": "python",
   "name": "python3"
  },
  "language_info": {
   "codemirror_mode": {
    "name": "ipython",
    "version": 3
   },
   "file_extension": ".py",
   "mimetype": "text/x-python",
   "name": "python",
   "nbconvert_exporter": "python",
   "pygments_lexer": "ipython3",
   "version": "3.11.1"
  },
  "orig_nbformat": 4
 },
 "nbformat": 4,
 "nbformat_minor": 2
}
